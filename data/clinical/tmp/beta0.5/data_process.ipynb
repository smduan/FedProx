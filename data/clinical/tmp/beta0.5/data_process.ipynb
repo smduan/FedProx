{
 "cells": [
  {
   "cell_type": "code",
   "execution_count": 1,
   "id": "7a7df060",
   "metadata": {},
   "outputs": [],
   "source": [
    "import numpy as np\n",
    "import pandas as pd\n",
    "\n",
    "c0 = pd.read_csv(\"./norm_data/clinical_node_0.csv\")\n",
    "c1 = pd.read_csv(\"./norm_data/clinical_node_1.csv\")\n",
    "c2 = pd.read_csv(\"./norm_data/clinical_node_2.csv\")\n",
    "c3 = pd.read_csv(\"./norm_data/clinical_node_3.csv\")\n",
    "c4 = pd.read_csv(\"./norm_data/clinical_node_4.csv\")"
   ]
  },
  {
   "cell_type": "code",
   "execution_count": 2,
   "id": "e9a06205",
   "metadata": {},
   "outputs": [
    {
     "name": "stdout",
     "output_type": "stream",
     "text": [
      "10\n",
      "61\n",
      "54\n",
      "21\n",
      "63\n"
     ]
    }
   ],
   "source": [
    "print(c0.shape[0])\n",
    "print(c1.shape[0])\n",
    "print(c2.shape[0])\n",
    "print(c3.shape[0])\n",
    "print(c4.shape[0])\n"
   ]
  },
  {
   "cell_type": "code",
   "execution_count": 3,
   "id": "0aa6d23e",
   "metadata": {},
   "outputs": [],
   "source": [
    "c0.to_csv(\"train_data.csv\",index=False)\n",
    "c1.to_csv(\"train_data.csv\",index=False,header=False,mode='a+')\n",
    "c2.to_csv(\"train_data.csv\",index=False,header=False,mode='a+')\n",
    "c3.to_csv(\"train_data.csv\",index=False,header=False,mode='a+')\n",
    "c4.to_csv(\"train_data.csv\",index=False,header=False,mode='a+')"
   ]
  },
  {
   "cell_type": "code",
   "execution_count": 4,
   "id": "03c7d2e9",
   "metadata": {},
   "outputs": [
    {
     "data": {
      "text/plain": [
       "(209, 18)"
      ]
     },
     "execution_count": 4,
     "metadata": {},
     "output_type": "execute_result"
    }
   ],
   "source": [
    "check = pd.read_csv(\"train_data.csv\")\n",
    "check.shape"
   ]
  },
  {
   "cell_type": "code",
   "execution_count": 5,
   "id": "edb7a352",
   "metadata": {},
   "outputs": [
    {
     "name": "stdout",
     "output_type": "stream",
     "text": [
      "10\n",
      "71\n",
      "125\n",
      "146\n",
      "209\n"
     ]
    }
   ],
   "source": [
    "sums = 0\n",
    "sums += c0.shape[0]\n",
    "print(sums)\n",
    "sums += c1.shape[0]\n",
    "print(sums)\n",
    "sums += c2.shape[0]\n",
    "print(sums)\n",
    "sums += c3.shape[0]\n",
    "print(sums)\n",
    "sums += c4.shape[0]\n",
    "print(sums)"
   ]
  },
  {
   "cell_type": "code",
   "execution_count": null,
   "id": "fccfb736",
   "metadata": {},
   "outputs": [],
   "source": []
  }
 ],
 "metadata": {
  "kernelspec": {
   "display_name": "Python 3 (ipykernel)",
   "language": "python",
   "name": "python3"
  },
  "language_info": {
   "codemirror_mode": {
    "name": "ipython",
    "version": 3
   },
   "file_extension": ".py",
   "mimetype": "text/x-python",
   "name": "python",
   "nbconvert_exporter": "python",
   "pygments_lexer": "ipython3",
   "version": "3.7.11"
  }
 },
 "nbformat": 4,
 "nbformat_minor": 5
}
